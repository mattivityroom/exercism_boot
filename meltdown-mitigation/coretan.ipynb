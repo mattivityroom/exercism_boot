{
 "cells": [
  {
   "cell_type": "markdown",
   "id": "fbf8e927",
   "metadata": {},
   "source": [
    "(1101, 'DANGER'), (1200, 'DANGER')\n",
    "temp 10\n",
    "threshold 10000"
   ]
  },
  {
   "cell_type": "code",
   "execution_count": 118,
   "id": "de6d95c5",
   "metadata": {},
   "outputs": [],
   "source": [
    "low = 1\n",
    "normal = 1000\n",
    "danger = 1200\n",
    "\n",
    "temp = 10\n",
    "threshold = 10000\n",
    "neutrons_produced_per_second = low"
   ]
  },
  {
   "cell_type": "code",
   "execution_count": 119,
   "id": "b6d5fc9c",
   "metadata": {},
   "outputs": [
    {
     "name": "stdout",
     "output_type": "stream",
     "text": [
      "9000.0 10 11000.0\n"
     ]
    }
   ],
   "source": [
    "# NORMAL\n",
    "status = temp * neutrons_produced_per_second\n",
    "low_limit = 0.90 * threshold\n",
    "normal_limit = 110 / 100 * threshold\n",
    "\n",
    "print(low_limit, status, normal_limit)\n",
    "\n",
    "# print(status, status-threshold, low_limit)\n",
    "# print(status < low_limit)\n",
    "\n",
    "# a = status - threshold\n",
    "# print(status, normal_limit, status-threshold)\n",
    "# print(a <= normal_limit * 10)"
   ]
  }
 ],
 "metadata": {
  "kernelspec": {
   "display_name": ".venv",
   "language": "python",
   "name": "python3"
  },
  "language_info": {
   "codemirror_mode": {
    "name": "ipython",
    "version": 3
   },
   "file_extension": ".py",
   "mimetype": "text/x-python",
   "name": "python",
   "nbconvert_exporter": "python",
   "pygments_lexer": "ipython3",
   "version": "3.11.5"
  }
 },
 "nbformat": 4,
 "nbformat_minor": 5
}
